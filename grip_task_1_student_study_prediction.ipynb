{
  "nbformat": 4,
  "nbformat_minor": 0,
  "metadata": {
    "colab": {
      "name": "grip_task_1_student_study_prediction.ipynb",
      "provenance": []
    },
    "kernelspec": {
      "name": "python3",
      "display_name": "Python 3"
    }
  },
  "cells": [
    {
      "cell_type": "markdown",
      "metadata": {
        "id": "wE2-XZ1lXmMF"
      },
      "source": [
        "### Load libraries to perform operation with dataset"
      ]
    },
    {
      "cell_type": "code",
      "metadata": {
        "id": "nPLmF8qDD9XK"
      },
      "source": [
        "# a powerful data analysis and manipulation library for Python\n",
        "import pandas as pd \n",
        "# Fast mathematical operations over arrays\n",
        "import numpy as np  \n",
        "# pyplot is mainly intended for interactive plots and simple cases of programmatic plot generation:: \n",
        "import matplotlib.pyplot as plt  \n",
        "# the output of plotting commands is displayed inline within frontends.\n",
        "%matplotlib inline  \n",
        "# Split arrays or matrices into random train and test subsets\n",
        "from sklearn.model_selection import train_test_split\n",
        "# Ordinary least squares Linear Regression. LinearRegression fits a linear model with coefficients\n",
        "from sklearn.linear_model import LinearRegression\n",
        "# Mean absolute error regression loss\n",
        "from sklearn.metrics import mean_absolute_error\n",
        "# R^2 (coefficient of determination) regression score function.Best possible score is 1.0\n",
        "from sklearn.metrics import r2_score\n",
        "# Seaborn is a Python data visualization library based on matplotlib. \n",
        "# It provides a high-level interface for drawing attractive and informative statistical graphics.\n",
        "import seaborn as sns "
      ],
      "execution_count": 24,
      "outputs": []
    },
    {
      "cell_type": "markdown",
      "metadata": {
        "id": "pLTt1QPIX87V"
      },
      "source": [
        "### Load dataset from given url"
      ]
    },
    {
      "cell_type": "code",
      "metadata": {
        "id": "RC11s7BFFrBQ"
      },
      "source": [
        "url=\"https://raw.githubusercontent.com/AdiPersonalWorks/Random/master/student_scores%20-%20student_scores.csv\"\n",
        "# Read a comma-separated values (csv) file into DataFrame.\n",
        "c=pd.read_csv(url)"
      ],
      "execution_count": 5,
      "outputs": []
    },
    {
      "cell_type": "markdown",
      "metadata": {
        "id": "qI5kbA5fYJEo"
      },
      "source": [
        "### Show loaded data"
      ]
    },
    {
      "cell_type": "code",
      "metadata": {
        "id": "HcuXf2DgFzwF",
        "outputId": "b83aef3f-7e87-4c0a-f702-ec911a5a6db8",
        "colab": {
          "base_uri": "https://localhost:8080/",
          "height": 206
        }
      },
      "source": [
        "# This function returns the first 5 rows for the object based on position.\n",
        "c.head()"
      ],
      "execution_count": 6,
      "outputs": [
        {
          "output_type": "execute_result",
          "data": {
            "text/html": [
              "<div>\n",
              "<style scoped>\n",
              "    .dataframe tbody tr th:only-of-type {\n",
              "        vertical-align: middle;\n",
              "    }\n",
              "\n",
              "    .dataframe tbody tr th {\n",
              "        vertical-align: top;\n",
              "    }\n",
              "\n",
              "    .dataframe thead th {\n",
              "        text-align: right;\n",
              "    }\n",
              "</style>\n",
              "<table border=\"1\" class=\"dataframe\">\n",
              "  <thead>\n",
              "    <tr style=\"text-align: right;\">\n",
              "      <th></th>\n",
              "      <th>Hours</th>\n",
              "      <th>Scores</th>\n",
              "    </tr>\n",
              "  </thead>\n",
              "  <tbody>\n",
              "    <tr>\n",
              "      <th>0</th>\n",
              "      <td>2.5</td>\n",
              "      <td>21</td>\n",
              "    </tr>\n",
              "    <tr>\n",
              "      <th>1</th>\n",
              "      <td>5.1</td>\n",
              "      <td>47</td>\n",
              "    </tr>\n",
              "    <tr>\n",
              "      <th>2</th>\n",
              "      <td>3.2</td>\n",
              "      <td>27</td>\n",
              "    </tr>\n",
              "    <tr>\n",
              "      <th>3</th>\n",
              "      <td>8.5</td>\n",
              "      <td>75</td>\n",
              "    </tr>\n",
              "    <tr>\n",
              "      <th>4</th>\n",
              "      <td>3.5</td>\n",
              "      <td>30</td>\n",
              "    </tr>\n",
              "  </tbody>\n",
              "</table>\n",
              "</div>"
            ],
            "text/plain": [
              "   Hours  Scores\n",
              "0    2.5      21\n",
              "1    5.1      47\n",
              "2    3.2      27\n",
              "3    8.5      75\n",
              "4    3.5      30"
            ]
          },
          "metadata": {
            "tags": []
          },
          "execution_count": 6
        }
      ]
    },
    {
      "cell_type": "markdown",
      "metadata": {
        "id": "dxzFBBK4YWoa"
      },
      "source": [
        "### Check weather dataset contains missing value or not"
      ]
    },
    {
      "cell_type": "code",
      "metadata": {
        "id": "u9RtxjyyHX-I",
        "outputId": "7e3b6efe-ec46-41b2-ecdc-c06117307ed8",
        "colab": {
          "base_uri": "https://localhost:8080/",
          "height": 72
        }
      },
      "source": [
        "c.isnull().sum()"
      ],
      "execution_count": 38,
      "outputs": [
        {
          "output_type": "execute_result",
          "data": {
            "text/plain": [
              "Hours     0\n",
              "Scores    0\n",
              "dtype: int64"
            ]
          },
          "metadata": {
            "tags": []
          },
          "execution_count": 38
        }
      ]
    },
    {
      "cell_type": "markdown",
      "metadata": {
        "id": "KSgPI_OhYsq_"
      },
      "source": [
        "### Check linear relation between two variables using pearson correlation method"
      ]
    },
    {
      "cell_type": "code",
      "metadata": {
        "id": "bW-FHMBFHg4M",
        "outputId": "11e18c26-2e6a-4bb8-b1d1-90480494e12f",
        "colab": {
          "base_uri": "https://localhost:8080/",
          "height": 112
        }
      },
      "source": [
        "c.corr()"
      ],
      "execution_count": 39,
      "outputs": [
        {
          "output_type": "execute_result",
          "data": {
            "text/html": [
              "<div>\n",
              "<style scoped>\n",
              "    .dataframe tbody tr th:only-of-type {\n",
              "        vertical-align: middle;\n",
              "    }\n",
              "\n",
              "    .dataframe tbody tr th {\n",
              "        vertical-align: top;\n",
              "    }\n",
              "\n",
              "    .dataframe thead th {\n",
              "        text-align: right;\n",
              "    }\n",
              "</style>\n",
              "<table border=\"1\" class=\"dataframe\">\n",
              "  <thead>\n",
              "    <tr style=\"text-align: right;\">\n",
              "      <th></th>\n",
              "      <th>Hours</th>\n",
              "      <th>Scores</th>\n",
              "    </tr>\n",
              "  </thead>\n",
              "  <tbody>\n",
              "    <tr>\n",
              "      <th>Hours</th>\n",
              "      <td>1.000000</td>\n",
              "      <td>0.976191</td>\n",
              "    </tr>\n",
              "    <tr>\n",
              "      <th>Scores</th>\n",
              "      <td>0.976191</td>\n",
              "      <td>1.000000</td>\n",
              "    </tr>\n",
              "  </tbody>\n",
              "</table>\n",
              "</div>"
            ],
            "text/plain": [
              "           Hours    Scores\n",
              "Hours   1.000000  0.976191\n",
              "Scores  0.976191  1.000000"
            ]
          },
          "metadata": {
            "tags": []
          },
          "execution_count": 39
        }
      ]
    },
    {
      "cell_type": "markdown",
      "metadata": {
        "id": "EPUlkhmYZErq"
      },
      "source": [
        "### Since pearson correlation method for our dataset show us positive linearity so lets move forward for preaparing data for modelling"
      ]
    },
    {
      "cell_type": "code",
      "metadata": {
        "id": "t5U7ZrBrJO2e"
      },
      "source": [
        "X = c.iloc[:,:-1].values #for no of study hours\n",
        "y = c.iloc[:,1].values # for scored marks \n",
        "X_train, X_test, y_train, y_test = train_test_split(X, y, \n",
        "                            test_size=0.3, random_state=0)"
      ],
      "execution_count": 40,
      "outputs": []
    },
    {
      "cell_type": "markdown",
      "metadata": {
        "id": "Hh5zQdj0cdqD"
      },
      "source": [
        "### Training the linear regression algorithm"
      ]
    },
    {
      "cell_type": "code",
      "metadata": {
        "id": "CtYQI8vXJ-1i",
        "outputId": "861a3214-6089-41f3-d464-b66f65260cf1",
        "colab": {
          "base_uri": "https://localhost:8080/",
          "height": 35
        }
      },
      "source": [
        "lr = LinearRegression()  \n",
        "lr.fit(X_train, y_train) \n",
        "\n",
        "print(\"Training completed for linear regression.\")"
      ],
      "execution_count": 41,
      "outputs": [
        {
          "output_type": "stream",
          "text": [
            "Training completed for linear regression.\n"
          ],
          "name": "stdout"
        }
      ]
    },
    {
      "cell_type": "markdown",
      "metadata": {
        "id": "xEMjp299cwFh"
      },
      "source": [
        "### Plot data and a linear regression model fit."
      ]
    },
    {
      "cell_type": "code",
      "metadata": {
        "id": "HqIv961sKTgg",
        "outputId": "dd1cda3a-bbae-4340-ff53-60a373a2751c",
        "colab": {
          "base_uri": "https://localhost:8080/",
          "height": 297
        }
      },
      "source": [
        "sns.regplot(x=\"Hours\", y=\"Scores\", data=c ,color='g')"
      ],
      "execution_count": 42,
      "outputs": [
        {
          "output_type": "execute_result",
          "data": {
            "text/plain": [
              "<matplotlib.axes._subplots.AxesSubplot at 0x7efef603c400>"
            ]
          },
          "metadata": {
            "tags": []
          },
          "execution_count": 42
        },
        {
          "output_type": "display_data",
          "data": {
            "image/png": "[encoded data removed]",
            "text/plain": [
              "<Figure size 432x288 with 1 Axes>"
            ]
          },
          "metadata": {
            "tags": [],
            "needs_background": "light"
          }
        }
      ]
    },
    {
      "cell_type": "markdown",
      "metadata": {
        "id": "MZ74Q7Ozc1yu"
      },
      "source": [
        "### Compare output with testing data"
      ]
    },
    {
      "cell_type": "code",
      "metadata": {
        "id": "xQQJOP7SOvrX",
        "outputId": "f32f53aa-a20d-4b08-a660-57f7e27f76cf",
        "colab": {
          "base_uri": "https://localhost:8080/",
          "height": 164
        }
      },
      "source": [
        "print(X_test)"
      ],
      "execution_count": 43,
      "outputs": [
        {
          "output_type": "stream",
          "text": [
            "[[1.5]\n",
            " [3.2]\n",
            " [7.4]\n",
            " [2.5]\n",
            " [5.9]\n",
            " [3.8]\n",
            " [1.9]\n",
            " [7.8]]\n"
          ],
          "name": "stdout"
        }
      ]
    },
    {
      "cell_type": "markdown",
      "metadata": {
        "id": "gkfNvToBdFv8"
      },
      "source": [
        "### Predict using the linear model."
      ]
    },
    {
      "cell_type": "code",
      "metadata": {
        "id": "xmNKMt6-P8re"
      },
      "source": [
        "y_pred = lr.predict(X_test)"
      ],
      "execution_count": 44,
      "outputs": []
    },
    {
      "cell_type": "markdown",
      "metadata": {
        "id": "nI1LF42kdM3b"
      },
      "source": [
        "### Comparing Actual vs Predicted"
      ]
    },
    {
      "cell_type": "code",
      "metadata": {
        "id": "53kbDkpaQXff",
        "outputId": "99f3d61c-9cd5-43ff-d259-e6b1b2e01ade",
        "colab": {
          "base_uri": "https://localhost:8080/",
          "height": 300
        }
      },
      "source": [
        "output = pd.DataFrame({'Actual': y_test, 'Predicted': y_pred})  \n",
        "output"
      ],
      "execution_count": 45,
      "outputs": [
        {
          "output_type": "execute_result",
          "data": {
            "text/html": [
              "<div>\n",
              "<style scoped>\n",
              "    .dataframe tbody tr th:only-of-type {\n",
              "        vertical-align: middle;\n",
              "    }\n",
              "\n",
              "    .dataframe tbody tr th {\n",
              "        vertical-align: top;\n",
              "    }\n",
              "\n",
              "    .dataframe thead th {\n",
              "        text-align: right;\n",
              "    }\n",
              "</style>\n",
              "<table border=\"1\" class=\"dataframe\">\n",
              "  <thead>\n",
              "    <tr style=\"text-align: right;\">\n",
              "      <th></th>\n",
              "      <th>Actual</th>\n",
              "      <th>Predicted</th>\n",
              "    </tr>\n",
              "  </thead>\n",
              "  <tbody>\n",
              "    <tr>\n",
              "      <th>0</th>\n",
              "      <td>20</td>\n",
              "      <td>17.053665</td>\n",
              "    </tr>\n",
              "    <tr>\n",
              "      <th>1</th>\n",
              "      <td>27</td>\n",
              "      <td>33.694229</td>\n",
              "    </tr>\n",
              "    <tr>\n",
              "      <th>2</th>\n",
              "      <td>69</td>\n",
              "      <td>74.806209</td>\n",
              "    </tr>\n",
              "    <tr>\n",
              "      <th>3</th>\n",
              "      <td>30</td>\n",
              "      <td>26.842232</td>\n",
              "    </tr>\n",
              "    <tr>\n",
              "      <th>4</th>\n",
              "      <td>62</td>\n",
              "      <td>60.123359</td>\n",
              "    </tr>\n",
              "    <tr>\n",
              "      <th>5</th>\n",
              "      <td>35</td>\n",
              "      <td>39.567369</td>\n",
              "    </tr>\n",
              "    <tr>\n",
              "      <th>6</th>\n",
              "      <td>24</td>\n",
              "      <td>20.969092</td>\n",
              "    </tr>\n",
              "    <tr>\n",
              "      <th>7</th>\n",
              "      <td>86</td>\n",
              "      <td>78.721636</td>\n",
              "    </tr>\n",
              "  </tbody>\n",
              "</table>\n",
              "</div>"
            ],
            "text/plain": [
              "   Actual  Predicted\n",
              "0      20  17.053665\n",
              "1      27  33.694229\n",
              "2      69  74.806209\n",
              "3      30  26.842232\n",
              "4      62  60.123359\n",
              "5      35  39.567369\n",
              "6      24  20.969092\n",
              "7      86  78.721636"
            ]
          },
          "metadata": {
            "tags": []
          },
          "execution_count": 45
        }
      ]
    },
    {
      "cell_type": "markdown",
      "metadata": {
        "id": "org-axMydnPZ"
      },
      "source": [
        "### The mean absolute error (MAE) is the simplest regression error metric to understand. We'll calculate the residual for every data point,"
      ]
    },
    {
      "cell_type": "code",
      "metadata": {
        "id": "phA7xQuZREmS",
        "outputId": "346988ff-16dc-4ac2-c404-9ddcd6fdc1cb",
        "colab": {
          "base_uri": "https://localhost:8080/",
          "height": 35
        }
      },
      "source": [
        "print('Mean Absolute Error:',metrics.mean_absolute_error(y_test, y_pred)) "
      ],
      "execution_count": 46,
      "outputs": [
        {
          "output_type": "stream",
          "text": [
            "Mean Absolute Error: 4.419727808027651\n"
          ],
          "name": "stdout"
        }
      ]
    },
    {
      "cell_type": "markdown",
      "metadata": {
        "id": "thTk4aMId5Jq"
      },
      "source": [
        "### R^2 (coefficient of determination) regression score function.Best possible score is 1.0\n"
      ]
    },
    {
      "cell_type": "code",
      "metadata": {
        "id": "WPFC41kiR27-",
        "outputId": "2a0697d6-baf8-40ef-983e-226f64e145f4",
        "colab": {
          "base_uri": "https://localhost:8080/",
          "height": 35
        }
      },
      "source": [
        "print(\"Accuracy score or r2_score for our model :\",r2_score(y_test,y_pred)*100,\"%\")"
      ],
      "execution_count": 47,
      "outputs": [
        {
          "output_type": "stream",
          "text": [
            "Accuracy score or r2_score for our model : 95.68211104435257 %\n"
          ],
          "name": "stdout"
        }
      ]
    },
    {
      "cell_type": "markdown",
      "metadata": {
        "id": "jWjzKO3feJD9"
      },
      "source": [
        "### What will be predicted score if a student studies for 9.25 hrs/ day?"
      ]
    },
    {
      "cell_type": "code",
      "metadata": {
        "id": "rkTFiReSSb16",
        "outputId": "1afe59b5-0e0d-4f1a-f27a-e963e99f9e5e",
        "colab": {
          "base_uri": "https://localhost:8080/",
          "height": 35
        }
      },
      "source": [
        "usercase = lr.predict([[9.25]])\n",
        "print(\"predicted score if a student studies for 9.25 hrs/ day :\",usercase)"
      ],
      "execution_count": 48,
      "outputs": [
        {
          "output_type": "stream",
          "text": [
            "predicted score if a student studies for 9.25 hrs/ day : [92.91505723]\n"
          ],
          "name": "stdout"
        }
      ]
    },
    {
      "cell_type": "code",
      "metadata": {
        "id": "fdQw9MWmUzCY"
      },
      "source": [
        ""
      ],
      "execution_count": null,
      "outputs": []
    }
  ]
}